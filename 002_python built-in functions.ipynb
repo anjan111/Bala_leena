{
 "cells": [
  {
   "cell_type": "code",
   "execution_count": 1,
   "metadata": {},
   "outputs": [
    {
     "name": "stdout",
     "output_type": "stream",
     "text": [
      "enter int  : 100\n",
      "data in var :  100\n",
      "memory :  40014864\n",
      "<type 'int'>\n"
     ]
    }
   ],
   "source": [
    "# functions\n",
    "'''\n",
    "-->> Group of statements which can do any one specific task\n",
    "'''\n",
    "# Pre defined function --->> Built-in functions\n",
    "# input() --->> to read the data from keyboard\n",
    "# print  ---->> to display the daata on monitor\n",
    "# type() --->> to know the datatype\n",
    "# id() ---->> to know the memory loc\n",
    "\n",
    "# read int and dipsly the datatype, memory , data\n",
    "\n",
    "var = input(\"enter int  : \")\n",
    "print \"data in var : \",var\n",
    "print \"memory : \",id(var)\n",
    "print type(var)"
   ]
  },
  {
   "cell_type": "code",
   "execution_count": 2,
   "metadata": {},
   "outputs": [
    {
     "name": "stdout",
     "output_type": "stream",
     "text": [
      "enter int  : 45.658\n",
      "data in var :  45.658\n",
      "memory :  72026880\n",
      "<type 'float'>\n"
     ]
    }
   ],
   "source": [
    "# read float and dipsly the datatype, memory , data\n",
    "\n",
    "var = input(\"enter float  : \")\n",
    "print \"data in var : \",var\n",
    "print \"memory : \",id(var)\n",
    "print type(var)"
   ]
  },
  {
   "cell_type": "code",
   "execution_count": 3,
   "metadata": {},
   "outputs": [
    {
     "name": "stdout",
     "output_type": "stream",
     "text": [
      "enter int  : 4+5j\n",
      "data in var :  (4+5j)\n",
      "memory :  66709392\n",
      "<type 'complex'>\n"
     ]
    }
   ],
   "source": [
    "# read complex and dipsly the datatype, memory , data\n",
    "\n",
    "var = input(\"enter complex : \")\n",
    "print \"data in var : \",var\n",
    "print \"memory : \",id(var)\n",
    "print type(var)"
   ]
  },
  {
   "cell_type": "code",
   "execution_count": 4,
   "metadata": {},
   "outputs": [
    {
     "name": "stdout",
     "output_type": "stream",
     "text": [
      "enter int  : True\n",
      "data in var :  True\n",
      "memory :  1644936936\n",
      "<type 'bool'>\n"
     ]
    }
   ],
   "source": [
    "# read bool  and dipsly the datatype, memory , data\n",
    "\n",
    "var = input(\"enter bool  : \")\n",
    "print \"data in var : \",var\n",
    "print \"memory : \",id(var)\n",
    "print type(var)"
   ]
  },
  {
   "cell_type": "code",
   "execution_count": 5,
   "metadata": {},
   "outputs": [
    {
     "name": "stdout",
     "output_type": "stream",
     "text": [
      "enter bool  : False\n",
      "data in var :  False\n",
      "memory :  1644936520\n",
      "<type 'bool'>\n"
     ]
    }
   ],
   "source": [
    "# read bool and dipsly the datatype, memory , data\n",
    "\n",
    "var = input(\"enter bool  : \")\n",
    "print \"data in var : \",var\n",
    "print \"memory : \",id(var)\n",
    "print type(var)"
   ]
  },
  {
   "cell_type": "code",
   "execution_count": 6,
   "metadata": {},
   "outputs": [
    {
     "name": "stdout",
     "output_type": "stream",
     "text": [
      "enter None  : None\n",
      "data in var :  None\n",
      "memory :  1644891256\n",
      "<type 'NoneType'>\n"
     ]
    }
   ],
   "source": [
    "# read None and dipsly the datatype, memory , data\n",
    "\n",
    "var = input(\"enter None  : \")\n",
    "print \"data in var : \",var\n",
    "print \"memory : \",id(var)\n",
    "print type(var)"
   ]
  },
  {
   "cell_type": "code",
   "execution_count": 7,
   "metadata": {},
   "outputs": [
    {
     "name": "stdout",
     "output_type": "stream",
     "text": [
      "enter str  : \"soc softech\"\n",
      "data in var :  soc softech\n",
      "memory :  73536448\n",
      "<type 'str'>\n"
     ]
    }
   ],
   "source": [
    "# read str and dipsly the datatype, memory , data\n",
    "\n",
    "var = input(\"enter str  : \")\n",
    "print \"data in var : \",var\n",
    "print \"memory : \",id(var)\n",
    "print type(var)"
   ]
  },
  {
   "cell_type": "code",
   "execution_count": 8,
   "metadata": {},
   "outputs": [
    {
     "name": "stdout",
     "output_type": "stream",
     "text": [
      "enter list  : [12,5.3,56+3j]\n",
      "data in var :  [12, 5.3, (56+3j)]\n",
      "memory :  71787720\n",
      "<type 'list'>\n"
     ]
    }
   ],
   "source": [
    "# read list and dipsly the datatype, memory , data\n",
    "\n",
    "var = input(\"enter list  : \")\n",
    "print \"data in var : \",var\n",
    "print \"memory : \",id(var)\n",
    "print type(var)"
   ]
  },
  {
   "cell_type": "code",
   "execution_count": 9,
   "metadata": {},
   "outputs": [
    {
     "name": "stdout",
     "output_type": "stream",
     "text": [
      "enter tuple  : (3,6.2,89)\n",
      "data in var :  (3, 6.2, 89)\n",
      "memory :  72293184\n",
      "<type 'tuple'>\n"
     ]
    }
   ],
   "source": [
    "# read tuple and dipsly the datatype, memory , data\n",
    "\n",
    "var = input(\"enter tuple  : \")\n",
    "print \"data in var : \",var\n",
    "print \"memory : \",id(var)\n",
    "print type(var)"
   ]
  },
  {
   "cell_type": "code",
   "execution_count": 10,
   "metadata": {},
   "outputs": [
    {
     "name": "stdout",
     "output_type": "stream",
     "text": [
      "enter set  : {3,90,24}\n",
      "data in var :  set([24, 90, 3])\n",
      "memory :  63077512\n",
      "<type 'set'>\n"
     ]
    }
   ],
   "source": [
    "# read set and dipsly the datatype, memory , data\n",
    "\n",
    "var = input(\"enter set  : \")\n",
    "print \"data in var : \",var\n",
    "print \"memory : \",id(var)\n",
    "print type(var)"
   ]
  },
  {
   "cell_type": "code",
   "execution_count": 11,
   "metadata": {},
   "outputs": [
    {
     "name": "stdout",
     "output_type": "stream",
     "text": [
      "enter dict  : {45:\"soc\", 56:\"softech\"}\n",
      "data in var :  {56: 'softech', 45: 'soc'}\n",
      "memory :  73561768\n",
      "<type 'dict'>\n"
     ]
    }
   ],
   "source": [
    "# read dict and dipsly the datatype, memory , data\n",
    "\n",
    "var = input(\"enter dict  : \")\n",
    "print \"data in var : \",var\n",
    "print \"memory : \",id(var)\n",
    "print type(var)"
   ]
  },
  {
   "cell_type": "code",
   "execution_count": 12,
   "metadata": {},
   "outputs": [
    {
     "name": "stdout",
     "output_type": "stream",
     "text": [
      "enter int  : 34\n",
      "data in var :  34\n",
      "memory :  72537072\n",
      "<type 'str'>\n"
     ]
    }
   ],
   "source": [
    "# raw_input() --->> to read the data from keyboard\n",
    "# print  ---->> to display the daata on monitor\n",
    "# type() --->> to know the datatype\n",
    "# id() ---->> to know the memory loc\n",
    "\n",
    "# read int and dipsly the datatype, memory , data\n",
    "\n",
    "var = raw_input(\"enter int  : \")\n",
    "print \"data in var : \",var\n",
    "print \"memory : \",id(var)\n",
    "print type(var)"
   ]
  },
  {
   "cell_type": "code",
   "execution_count": 13,
   "metadata": {},
   "outputs": [
    {
     "name": "stdout",
     "output_type": "stream",
     "text": [
      "enter float  : 45.4423\n",
      "data in var :  45.4423\n",
      "memory :  72536992\n",
      "<type 'str'>\n"
     ]
    }
   ],
   "source": [
    "# read float and dipsly the datatype, memory , data\n",
    "\n",
    "var = raw_input(\"enter float  : \")\n",
    "print \"data in var : \",var\n",
    "print \"memory : \",id(var)\n",
    "print type(var)"
   ]
  },
  {
   "cell_type": "code",
   "execution_count": 14,
   "metadata": {},
   "outputs": [
    {
     "name": "stdout",
     "output_type": "stream",
     "text": [
      "enter complex  : 34+3j\n",
      "data in var :  34+3j\n",
      "memory :  72539632\n",
      "<type 'str'>\n"
     ]
    }
   ],
   "source": [
    "# read complex and dipsly the datatype, memory , data\n",
    "\n",
    "var = raw_input(\"enter complex  : \")\n",
    "print \"data in var : \",var\n",
    "print \"memory : \",id(var)\n",
    "print type(var)"
   ]
  },
  {
   "cell_type": "code",
   "execution_count": 15,
   "metadata": {},
   "outputs": [
    {
     "name": "stdout",
     "output_type": "stream",
     "text": [
      "enter bool  : True\n",
      "data in var :  True\n",
      "memory :  72536712\n",
      "<type 'str'>\n"
     ]
    }
   ],
   "source": [
    "# read bool and dipsly the datatype, memory , data\n",
    "\n",
    "var = raw_input(\"enter bool  : \")\n",
    "print \"data in var : \",var\n",
    "print \"memory : \",id(var)\n",
    "print type(var)"
   ]
  },
  {
   "cell_type": "code",
   "execution_count": 16,
   "metadata": {},
   "outputs": [],
   "source": [
    "# execute all datatypes\n"
   ]
  },
  {
   "cell_type": "code",
   "execution_count": 17,
   "metadata": {},
   "outputs": [
    {
     "name": "stdout",
     "output_type": "stream",
     "text": [
      "enter int  : 789\n",
      "data in var :  789\n",
      "memory :  72537312\n",
      "<type 'str'>\n",
      "data in var :  789\n",
      "memory :  63687632\n",
      "<type 'int'>\n"
     ]
    }
   ],
   "source": [
    "# datatype conversion functions\n",
    "'''\n",
    "int() --->> any datatype --->> int\n",
    "float()--->> any datatype --->> float\n",
    "complex()--->> any datatype --->> complex\n",
    "bool()--->> any datatype --->> bool\n",
    "str()--->> any datatype --->> str\n",
    "list()--->> any datatype --->> list\n",
    "tuple()--->> any datatype --->> tuple\n",
    "set()--->> any datatype --->> set\n",
    "dict()--->> any datatype --->> dict\n",
    "\n",
    "'''\n",
    "# read int and dipsly the datatype, memory , data\n",
    "\n",
    "var = raw_input(\"enter int  : \")\n",
    "print \"data in var : \",var\n",
    "print \"memory : \",id(var)\n",
    "print type(var) # str\n",
    "\n",
    "var = int(var) # int\n",
    "print \"data in var : \",var\n",
    "print \"memory : \",id(var)\n",
    "print type(var) # int"
   ]
  },
  {
   "cell_type": "code",
   "execution_count": 19,
   "metadata": {},
   "outputs": [
    {
     "name": "stdout",
     "output_type": "stream",
     "text": [
      "enter float  : 78.564\n",
      "data in var :  78.564\n",
      "memory :  72538992\n",
      "<type 'str'>\n",
      "data in var :  78.564\n",
      "memory :  72026520\n",
      "<type 'float'>\n"
     ]
    }
   ],
   "source": [
    "# read float and dipsly the datatype, memory , data\n",
    "\n",
    "var = raw_input(\"enter float  : \")\n",
    "print \"data in var : \",var\n",
    "print \"memory : \",id(var)\n",
    "print type(var) # str\n",
    "\n",
    "var = float(var) # float\n",
    "print \"data in var : \",var\n",
    "print \"memory : \",id(var)\n",
    "print type(var) # float"
   ]
  },
  {
   "cell_type": "code",
   "execution_count": null,
   "metadata": {},
   "outputs": [],
   "source": [
    "# execute all datatype conversion functions "
   ]
  },
  {
   "cell_type": "code",
   "execution_count": null,
   "metadata": {},
   "outputs": [],
   "source": []
  }
 ],
 "metadata": {
  "kernelspec": {
   "display_name": "Python 2",
   "language": "python",
   "name": "python2"
  },
  "language_info": {
   "codemirror_mode": {
    "name": "ipython",
    "version": 2
   },
   "file_extension": ".py",
   "mimetype": "text/x-python",
   "name": "python",
   "nbconvert_exporter": "python",
   "pygments_lexer": "ipython2",
   "version": "2.7.16"
  }
 },
 "nbformat": 4,
 "nbformat_minor": 2
}
