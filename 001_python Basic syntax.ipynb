{
 "cells": [
  {
   "cell_type": "code",
   "execution_count": 1,
   "metadata": {},
   "outputs": [
    {
     "name": "stdout",
     "output_type": "stream",
     "text": [
      "hello\n",
      "hai\n",
      "bye\n"
     ]
    }
   ],
   "source": [
    "print \"hello\"\n",
    "print \"hai\"\n",
    "print \"bye\""
   ]
  },
  {
   "cell_type": "markdown",
   "metadata": {},
   "source": [
    "###  Syntax\n",
    "\n",
    "--->> The structure for writing a program \n",
    "\n",
    "#### Program\n",
    "\n",
    "--->> Collection of Instructions to do any one specific task\n",
    "\n",
    "#### Instructions\n",
    "\n",
    "---->> A line of code with in a program\n",
    "\n",
    "#### Types\n",
    "\n",
    "1. Comments ---->>An instructions which are not executable \n",
    "\n",
    "   \n",
    "2. Statements --->> An instructions which can be executable "
   ]
  },
  {
   "cell_type": "code",
   "execution_count": 2,
   "metadata": {},
   "outputs": [
    {
     "name": "stdout",
     "output_type": "stream",
     "text": [
      "hello\n",
      "hai\n",
      "bye\n"
     ]
    }
   ],
   "source": [
    "# single line comment \n",
    "'''\n",
    "This is the multiline \n",
    "comment \n",
    "'''\n",
    "print \"hello\" # statement\n",
    "print \"hai\"\n",
    "print \"bye\""
   ]
  },
  {
   "cell_type": "code",
   "execution_count": 4,
   "metadata": {},
   "outputs": [
    {
     "name": "stdout",
     "output_type": "stream",
     "text": [
      "['and', 'as', 'assert', 'break', 'class', 'continue', 'def', 'del', 'elif', 'else', 'except', 'exec', 'finally', 'for', 'from', 'global', 'if', 'import', 'in', 'is', 'lambda', 'not', 'or', 'pass', 'print', 'raise', 'return', 'try', 'while', 'with', 'yield']\n"
     ]
    }
   ],
   "source": [
    "# keywords \n",
    "'''\n",
    "--->> pre defined words\n",
    "--->> Each and every keyword which having its own specific task\n",
    "'''\n",
    "import keyword\n",
    "print keyword.kwlist"
   ]
  },
  {
   "cell_type": "code",
   "execution_count": 5,
   "metadata": {},
   "outputs": [
    {
     "name": "stdout",
     "output_type": "stream",
     "text": [
      "31\n"
     ]
    }
   ],
   "source": [
    "import keyword\n",
    "print len(keyword.kwlist)"
   ]
  },
  {
   "cell_type": "code",
   "execution_count": 6,
   "metadata": {},
   "outputs": [
    {
     "name": "stdout",
     "output_type": "stream",
     "text": [
      "123\n",
      "45.9\n"
     ]
    }
   ],
   "source": [
    "# identifier\n",
    "'''\n",
    "--->> User defined words \n",
    "--->> To give the names for variables , functions, classes\n",
    "'''\n",
    "# Rules\n",
    "'''\n",
    "--->> we can use alphabets  a-z / A-Z\n",
    "--->> we can use digits   0-9\n",
    "--->> we can use underscore _\n",
    "--->> don't start with digit\n",
    "--->> don't use special character\n",
    "--->> don't use keywords\n",
    "'''\n",
    "# varaible\n",
    "'''\n",
    "--->>Its is an indentifier\n",
    "--->> To hold the daata\n",
    "'''\n",
    "var = 123\n",
    "print var\n",
    "b = 45.9\n",
    "print b"
   ]
  },
  {
   "cell_type": "code",
   "execution_count": 7,
   "metadata": {},
   "outputs": [
    {
     "name": "stdout",
     "output_type": "stream",
     "text": [
      "12\n",
      "memory :  41192544\n",
      "<type 'int'>\n"
     ]
    }
   ],
   "source": [
    "# datatype\n",
    "'''\n",
    "--->> which are used for to specify the what type of data\n",
    "holded by variable\n",
    "\n",
    "--->> type(var)--->> returns the datatype of variable\n",
    "--->> id(var) ---->> return the memory loc of variable\n",
    "'''\n",
    "var = 12\n",
    "print var\n",
    "print \"memory : \",id(var)\n",
    "print type(var)"
   ]
  },
  {
   "cell_type": "code",
   "execution_count": 8,
   "metadata": {},
   "outputs": [
    {
     "name": "stdout",
     "output_type": "stream",
     "text": [
      "12\n",
      "memory :  41192544\n",
      "<type 'int'>\n",
      "-2\n",
      "memory :  41192880\n",
      "<type 'int'>\n",
      "0\n",
      "memory :  41192832\n",
      "<type 'int'>\n"
     ]
    }
   ],
   "source": [
    "# there are 2 datatypes\n",
    "'''\n",
    "1. fundamental datatype\n",
    "   1. int ----->> +ve / -ve / 0\n",
    "   2. float---->> real pointing numbers\n",
    "   3. complex -->  real +  img ---->>  x  + yj\n",
    "   4. bool ---->>  True  / False\n",
    "   5. Nonetype --> None\n",
    "\n",
    "'''\n",
    "var = 12\n",
    "print var\n",
    "print \"memory : \",id(var)\n",
    "print type(var)\n",
    "var = -2\n",
    "print var\n",
    "print \"memory : \",id(var)\n",
    "print type(var)\n",
    "var = 0\n",
    "print var\n",
    "print \"memory : \",id(var)\n",
    "print type(var)"
   ]
  },
  {
   "cell_type": "code",
   "execution_count": 9,
   "metadata": {},
   "outputs": [
    {
     "name": "stdout",
     "output_type": "stream",
     "text": [
      "12.154\n",
      "memory :  60163056\n",
      "<type 'float'>\n",
      "-2.454\n",
      "memory :  60162912\n",
      "<type 'float'>\n",
      "0.0\n",
      "memory :  60162864\n",
      "<type 'float'>\n"
     ]
    }
   ],
   "source": [
    "var = 12.154\n",
    "print var\n",
    "print \"memory : \",id(var)\n",
    "print type(var)\n",
    "var = -2.454\n",
    "print var\n",
    "print \"memory : \",id(var)\n",
    "print type(var)\n",
    "var = 0.0\n",
    "print var\n",
    "print \"memory : \",id(var)\n",
    "print type(var)"
   ]
  },
  {
   "cell_type": "code",
   "execution_count": 10,
   "metadata": {},
   "outputs": [
    {
     "name": "stdout",
     "output_type": "stream",
     "text": [
      "(12+4j)\n",
      "memory :  72171184\n",
      "<type 'complex'>\n",
      "(-2+0j)\n",
      "memory :  72170544\n",
      "<type 'complex'>\n",
      "3j\n",
      "memory :  72171184\n",
      "<type 'complex'>\n",
      "0j\n",
      "<type 'complex'>\n",
      "memory : 72169840\n"
     ]
    }
   ],
   "source": [
    "var = 12 +4j\n",
    "print var\n",
    "print \"memory : \",id(var)\n",
    "print type(var)\n",
    "var = -2 +0j\n",
    "print var\n",
    "print \"memory : \",id(var)\n",
    "print type(var)\n",
    "var = 0 + 3j\n",
    "print var\n",
    "print \"memory : \",id(var)\n",
    "print type(var)\n",
    "var = 0+0j\n",
    "print var\n",
    "print type(var)\n",
    "print \"memory :\",id(var)"
   ]
  },
  {
   "cell_type": "code",
   "execution_count": 11,
   "metadata": {},
   "outputs": [
    {
     "name": "stdout",
     "output_type": "stream",
     "text": [
      "True\n",
      "memory :  1784463080\n",
      "<type 'bool'>\n",
      "False\n",
      "memory :  1784462664\n",
      "<type 'bool'>\n"
     ]
    }
   ],
   "source": [
    "var = True\n",
    "print var\n",
    "print \"memory : \",id(var)\n",
    "print type(var)\n",
    "var = False\n",
    "print var\n",
    "print \"memory : \",id(var)\n",
    "print type(var)"
   ]
  },
  {
   "cell_type": "code",
   "execution_count": 12,
   "metadata": {},
   "outputs": [
    {
     "name": "stdout",
     "output_type": "stream",
     "text": [
      "None\n",
      "memory :  1784417400\n",
      "<type 'NoneType'>\n"
     ]
    }
   ],
   "source": [
    "var = None\n",
    "print var\n",
    "print \"memory : \",id(var)\n",
    "print type(var)"
   ]
  },
  {
   "cell_type": "code",
   "execution_count": 13,
   "metadata": {},
   "outputs": [
    {
     "name": "stdout",
     "output_type": "stream",
     "text": [
      "soc\n",
      "memory :  79419712\n",
      "<type 'str'>\n"
     ]
    }
   ],
   "source": [
    "# seqencial datatype\n",
    "'''\n",
    "1. str ----->>  \"group of characters\"\n",
    "2. list --->>   [el,e2,e3]\n",
    "3. tuple --->   (el,e2,e3)\n",
    "4. set ----->   {el,e2,e3 }\n",
    "5. dict  -->   {k1: v1 ,  k2:v2 }\n",
    "'''\n",
    "var = \"soc\"\n",
    "print var\n",
    "print \"memory : \",id(var)\n",
    "print type(var)"
   ]
  },
  {
   "cell_type": "code",
   "execution_count": 14,
   "metadata": {},
   "outputs": [
    {
     "name": "stdout",
     "output_type": "stream",
     "text": [
      "[1, 5.3, 56]\n",
      "memory :  78345672\n",
      "<type 'list'>\n"
     ]
    }
   ],
   "source": [
    "var = [1,5.3, 56]\n",
    "print var\n",
    "print \"memory : \",id(var)\n",
    "print type(var)"
   ]
  },
  {
   "cell_type": "code",
   "execution_count": 15,
   "metadata": {},
   "outputs": [
    {
     "name": "stdout",
     "output_type": "stream",
     "text": [
      "(12, 5.3, (4+5j))\n",
      "memory :  76802376\n",
      "<type 'tuple'>\n"
     ]
    }
   ],
   "source": [
    "var = (12,5.3,4+5j)\n",
    "print var\n",
    "print \"memory : \",id(var)\n",
    "print type(var)"
   ]
  },
  {
   "cell_type": "code",
   "execution_count": 16,
   "metadata": {},
   "outputs": [
    {
     "name": "stdout",
     "output_type": "stream",
     "text": [
      "set([56, 90, 2, 23])\n",
      "memory :  68512904\n",
      "<type 'set'>\n"
     ]
    }
   ],
   "source": [
    "var = {23,56,90,2}\n",
    "print var\n",
    "print \"memory : \",id(var)\n",
    "print type(var)"
   ]
  },
  {
   "cell_type": "code",
   "execution_count": 17,
   "metadata": {},
   "outputs": [
    {
     "name": "stdout",
     "output_type": "stream",
     "text": [
      "{56: 'hello', 23: 45}\n",
      "memory :  78343160\n",
      "<type 'dict'>\n"
     ]
    }
   ],
   "source": [
    "var = {23: 45  , 56 : \"hello\"}\n",
    "print var\n",
    "print \"memory : \",id(var)\n",
    "print type(var)"
   ]
  },
  {
   "cell_type": "code",
   "execution_count": null,
   "metadata": {},
   "outputs": [],
   "source": []
  },
  {
   "cell_type": "code",
   "execution_count": null,
   "metadata": {},
   "outputs": [],
   "source": []
  }
 ],
 "metadata": {
  "kernelspec": {
   "display_name": "Python 2",
   "language": "python",
   "name": "python2"
  },
  "language_info": {
   "codemirror_mode": {
    "name": "ipython",
    "version": 2
   },
   "file_extension": ".py",
   "mimetype": "text/x-python",
   "name": "python",
   "nbconvert_exporter": "python",
   "pygments_lexer": "ipython2",
   "version": "2.7.16"
  }
 },
 "nbformat": 4,
 "nbformat_minor": 2
}
